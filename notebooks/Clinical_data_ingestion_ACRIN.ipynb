{
  "nbformat": 4,
  "nbformat_minor": 0,
  "metadata": {
    "colab": {
      "name": "Clinical data ingestion - ACRIN",
      "provenance": [],
      "collapsed_sections": [],
      "include_colab_link": true
    },
    "kernelspec": {
      "name": "python3",
      "display_name": "Python 3"
    }
  },
  "cells": [
    {
      "cell_type": "markdown",
      "metadata": {
        "id": "view-in-github",
        "colab_type": "text"
      },
      "source": [
        "<a href=\"https://colab.research.google.com/github/fedorov/idc-clinical-cleanup/blob/main/notebooks/Clinical_data_ingestion_ACRIN.ipynb\" target=\"_parent\"><img src=\"https://colab.research.google.com/assets/colab-badge.svg\" alt=\"Open In Colab\"/></a>"
      ]
    },
    {
      "cell_type": "code",
      "metadata": {
        "id": "GcZ3Ii6MxrXy"
      },
      "source": [
        "from google.colab import auth\n",
        "auth.authenticate_user()"
      ],
      "execution_count": null,
      "outputs": []
    },
    {
      "cell_type": "code",
      "metadata": {
        "colab": {
          "base_uri": "https://localhost:8080/"
        },
        "id": "y-_M5l8jxwxX",
        "outputId": "1a08f1cb-a679-45c8-f7c3-68a61afd2b8d"
      },
      "source": [
        "!git clone https://github.com/fedorov/idc-clinical-cleanup.git"
      ],
      "execution_count": null,
      "outputs": [
        {
          "output_type": "stream",
          "name": "stdout",
          "text": [
            "Cloning into 'idc-clinical-cleanup'...\n",
            "remote: Enumerating objects: 46, done.\u001b[K\n",
            "remote: Counting objects: 100% (46/46), done.\u001b[K\n",
            "remote: Compressing objects: 100% (27/27), done.\u001b[K\n",
            "remote: Total 46 (delta 15), reused 44 (delta 13), pack-reused 0\u001b[K\n",
            "Unpacking objects: 100% (46/46), done.\n"
          ]
        }
      ]
    },
    {
      "cell_type": "code",
      "metadata": {
        "colab": {
          "base_uri": "https://localhost:8080/"
        },
        "id": "05y47iMf169M",
        "outputId": "38725232-d2de-4a60-c142-f11cebb41eb7"
      },
      "source": [
        "!cd idc-clinical-cleanup && git pull"
      ],
      "execution_count": null,
      "outputs": [
        {
          "output_type": "stream",
          "name": "stdout",
          "text": [
            "Already up to date.\n"
          ]
        }
      ]
    },
    {
      "cell_type": "code",
      "metadata": {
        "colab": {
          "base_uri": "https://localhost:8080/",
          "height": 1000
        },
        "id": "tsQqWF9qyKiq",
        "outputId": "f8f1abb3-1cb8-4728-d886-3b39805414f8"
      },
      "source": [
        "!pip install -r idc-clinical-cleanup/requirements.txt"
      ],
      "execution_count": null,
      "outputs": [
        {
          "output_type": "stream",
          "name": "stdout",
          "text": [
            "Collecting appnope==0.1.2\n",
            "  Downloading appnope-0.1.2-py2.py3-none-any.whl (4.3 kB)\n",
            "Requirement already satisfied: attrs==21.2.0 in /usr/local/lib/python3.7/dist-packages (from -r idc-clinical-cleanup/requirements.txt (line 2)) (21.2.0)\n",
            "Requirement already satisfied: backcall==0.2.0 in /usr/local/lib/python3.7/dist-packages (from -r idc-clinical-cleanup/requirements.txt (line 3)) (0.2.0)\n",
            "Collecting decorator==5.1.0\n",
            "  Downloading decorator-5.1.0-py3-none-any.whl (9.1 kB)\n",
            "Requirement already satisfied: et-xmlfile==1.1.0 in /usr/local/lib/python3.7/dist-packages (from -r idc-clinical-cleanup/requirements.txt (line 5)) (1.1.0)\n",
            "Requirement already satisfied: importlib-metadata==4.8.1 in /usr/local/lib/python3.7/dist-packages (from -r idc-clinical-cleanup/requirements.txt (line 6)) (4.8.1)\n",
            "Requirement already satisfied: iniconfig==1.1.1 in /usr/local/lib/python3.7/dist-packages (from -r idc-clinical-cleanup/requirements.txt (line 7)) (1.1.1)\n",
            "Collecting ipython==7.29.0\n",
            "  Downloading ipython-7.29.0-py3-none-any.whl (790 kB)\n",
            "\u001b[K     |████████████████████████████████| 790 kB 39.4 MB/s \n",
            "\u001b[?25hRequirement already satisfied: jedi==0.18.0 in /usr/local/lib/python3.7/dist-packages (from -r idc-clinical-cleanup/requirements.txt (line 9)) (0.18.0)\n",
            "Requirement already satisfied: matplotlib-inline==0.1.3 in /usr/local/lib/python3.7/dist-packages (from -r idc-clinical-cleanup/requirements.txt (line 10)) (0.1.3)\n",
            "Collecting numpy==1.21.3\n",
            "  Downloading numpy-1.21.3-cp37-cp37m-manylinux_2_12_x86_64.manylinux2010_x86_64.whl (15.7 MB)\n",
            "\u001b[K     |████████████████████████████████| 15.7 MB 57 kB/s \n",
            "\u001b[?25hCollecting openpyxl==3.0.9\n",
            "  Downloading openpyxl-3.0.9-py2.py3-none-any.whl (242 kB)\n",
            "\u001b[K     |████████████████████████████████| 242 kB 64.6 MB/s \n",
            "\u001b[?25hCollecting packaging==21.2\n",
            "  Downloading packaging-21.2-py3-none-any.whl (40 kB)\n",
            "\u001b[K     |████████████████████████████████| 40 kB 7.6 MB/s \n",
            "\u001b[?25hCollecting pandas==1.3.4\n",
            "  Downloading pandas-1.3.4-cp37-cp37m-manylinux_2_17_x86_64.manylinux2014_x86_64.whl (11.3 MB)\n",
            "\u001b[K     |████████████████████████████████| 11.3 MB 38.5 MB/s \n",
            "\u001b[?25hRequirement already satisfied: parso==0.8.2 in /usr/local/lib/python3.7/dist-packages (from -r idc-clinical-cleanup/requirements.txt (line 15)) (0.8.2)\n",
            "Requirement already satisfied: pexpect==4.8.0 in /usr/local/lib/python3.7/dist-packages (from -r idc-clinical-cleanup/requirements.txt (line 16)) (4.8.0)\n",
            "Requirement already satisfied: pickleshare==0.7.5 in /usr/local/lib/python3.7/dist-packages (from -r idc-clinical-cleanup/requirements.txt (line 17)) (0.7.5)\n",
            "Collecting pluggy==1.0.0\n",
            "  Downloading pluggy-1.0.0-py2.py3-none-any.whl (13 kB)\n",
            "Collecting prompt-toolkit==3.0.21\n",
            "  Downloading prompt_toolkit-3.0.21-py3-none-any.whl (374 kB)\n",
            "\u001b[K     |████████████████████████████████| 374 kB 63.3 MB/s \n",
            "\u001b[?25hRequirement already satisfied: ptyprocess==0.7.0 in /usr/local/lib/python3.7/dist-packages (from -r idc-clinical-cleanup/requirements.txt (line 20)) (0.7.0)\n",
            "Requirement already satisfied: py==1.10.0 in /usr/local/lib/python3.7/dist-packages (from -r idc-clinical-cleanup/requirements.txt (line 21)) (1.10.0)\n",
            "Collecting Pygments==2.10.0\n",
            "  Downloading Pygments-2.10.0-py3-none-any.whl (1.0 MB)\n",
            "\u001b[K     |████████████████████████████████| 1.0 MB 52.7 MB/s \n",
            "\u001b[?25hRequirement already satisfied: pyparsing==2.4.7 in /usr/local/lib/python3.7/dist-packages (from -r idc-clinical-cleanup/requirements.txt (line 23)) (2.4.7)\n",
            "Collecting pytest==6.2.5\n",
            "  Downloading pytest-6.2.5-py3-none-any.whl (280 kB)\n",
            "\u001b[K     |████████████████████████████████| 280 kB 62.9 MB/s \n",
            "\u001b[?25hRequirement already satisfied: python-dateutil==2.8.2 in /usr/local/lib/python3.7/dist-packages (from -r idc-clinical-cleanup/requirements.txt (line 25)) (2.8.2)\n",
            "Collecting pytz==2021.3\n",
            "  Downloading pytz-2021.3-py2.py3-none-any.whl (503 kB)\n",
            "\u001b[K     |████████████████████████████████| 503 kB 62.8 MB/s \n",
            "\u001b[?25hCollecting six==1.16.0\n",
            "  Downloading six-1.16.0-py2.py3-none-any.whl (11 kB)\n",
            "Requirement already satisfied: toml==0.10.2 in /usr/local/lib/python3.7/dist-packages (from -r idc-clinical-cleanup/requirements.txt (line 28)) (0.10.2)\n",
            "Collecting traitlets==5.1.1\n",
            "  Downloading traitlets-5.1.1-py3-none-any.whl (102 kB)\n",
            "\u001b[K     |████████████████████████████████| 102 kB 15.1 MB/s \n",
            "\u001b[?25hCollecting typing-extensions==3.10.0.2\n",
            "  Downloading typing_extensions-3.10.0.2-py3-none-any.whl (26 kB)\n",
            "Requirement already satisfied: wcwidth==0.2.5 in /usr/local/lib/python3.7/dist-packages (from -r idc-clinical-cleanup/requirements.txt (line 31)) (0.2.5)\n",
            "Collecting xlrd==2.0.1\n",
            "  Downloading xlrd-2.0.1-py2.py3-none-any.whl (96 kB)\n",
            "\u001b[K     |████████████████████████████████| 96 kB 8.0 MB/s \n",
            "\u001b[?25hRequirement already satisfied: zipp==3.6.0 in /usr/local/lib/python3.7/dist-packages (from -r idc-clinical-cleanup/requirements.txt (line 33)) (3.6.0)\n",
            "Requirement already satisfied: setuptools>=18.5 in /usr/local/lib/python3.7/dist-packages (from ipython==7.29.0->-r idc-clinical-cleanup/requirements.txt (line 8)) (57.4.0)\n",
            "Installing collected packages: typing-extensions, traitlets, six, pytz, Pygments, prompt-toolkit, pluggy, packaging, numpy, decorator, xlrd, pytest, pandas, openpyxl, ipython, appnope\n",
            "  Attempting uninstall: typing-extensions\n",
            "    Found existing installation: typing-extensions 3.7.4.3\n",
            "    Uninstalling typing-extensions-3.7.4.3:\n",
            "      Successfully uninstalled typing-extensions-3.7.4.3\n",
            "  Attempting uninstall: traitlets\n",
            "    Found existing installation: traitlets 5.1.0\n",
            "    Uninstalling traitlets-5.1.0:\n",
            "      Successfully uninstalled traitlets-5.1.0\n",
            "  Attempting uninstall: six\n",
            "    Found existing installation: six 1.15.0\n",
            "    Uninstalling six-1.15.0:\n",
            "      Successfully uninstalled six-1.15.0\n",
            "  Attempting uninstall: pytz\n",
            "    Found existing installation: pytz 2018.9\n",
            "    Uninstalling pytz-2018.9:\n",
            "      Successfully uninstalled pytz-2018.9\n",
            "  Attempting uninstall: Pygments\n",
            "    Found existing installation: Pygments 2.6.1\n",
            "    Uninstalling Pygments-2.6.1:\n",
            "      Successfully uninstalled Pygments-2.6.1\n",
            "  Attempting uninstall: prompt-toolkit\n",
            "    Found existing installation: prompt-toolkit 1.0.18\n",
            "    Uninstalling prompt-toolkit-1.0.18:\n",
            "      Successfully uninstalled prompt-toolkit-1.0.18\n",
            "  Attempting uninstall: pluggy\n",
            "    Found existing installation: pluggy 0.7.1\n",
            "    Uninstalling pluggy-0.7.1:\n",
            "      Successfully uninstalled pluggy-0.7.1\n",
            "  Attempting uninstall: packaging\n",
            "    Found existing installation: packaging 21.0\n",
            "    Uninstalling packaging-21.0:\n",
            "      Successfully uninstalled packaging-21.0\n",
            "  Attempting uninstall: numpy\n",
            "    Found existing installation: numpy 1.19.5\n",
            "    Uninstalling numpy-1.19.5:\n",
            "      Successfully uninstalled numpy-1.19.5\n",
            "  Attempting uninstall: decorator\n",
            "    Found existing installation: decorator 4.4.2\n",
            "    Uninstalling decorator-4.4.2:\n",
            "      Successfully uninstalled decorator-4.4.2\n",
            "  Attempting uninstall: xlrd\n",
            "    Found existing installation: xlrd 1.1.0\n",
            "    Uninstalling xlrd-1.1.0:\n",
            "      Successfully uninstalled xlrd-1.1.0\n",
            "  Attempting uninstall: pytest\n",
            "    Found existing installation: pytest 3.6.4\n",
            "    Uninstalling pytest-3.6.4:\n",
            "      Successfully uninstalled pytest-3.6.4\n",
            "  Attempting uninstall: pandas\n",
            "    Found existing installation: pandas 1.1.5\n",
            "    Uninstalling pandas-1.1.5:\n",
            "      Successfully uninstalled pandas-1.1.5\n",
            "  Attempting uninstall: openpyxl\n",
            "    Found existing installation: openpyxl 2.5.9\n",
            "    Uninstalling openpyxl-2.5.9:\n",
            "      Successfully uninstalled openpyxl-2.5.9\n",
            "  Attempting uninstall: ipython\n",
            "    Found existing installation: ipython 5.5.0\n",
            "    Uninstalling ipython-5.5.0:\n",
            "      Successfully uninstalled ipython-5.5.0\n",
            "\u001b[31mERROR: pip's dependency resolver does not currently take into account all the packages that are installed. This behaviour is the source of the following dependency conflicts.\n",
            "tensorflow 2.6.0 requires numpy~=1.19.2, but you have numpy 1.21.3 which is incompatible.\n",
            "tensorflow 2.6.0 requires six~=1.15.0, but you have six 1.16.0 which is incompatible.\n",
            "tensorflow 2.6.0 requires typing-extensions~=3.7.4, but you have typing-extensions 3.10.0.2 which is incompatible.\n",
            "nbclient 0.5.4 requires jupyter-client>=6.1.5, but you have jupyter-client 5.3.5 which is incompatible.\n",
            "moviepy 0.2.3.5 requires decorator<5.0,>=4.0.2, but you have decorator 5.1.0 which is incompatible.\n",
            "jupyter-console 5.2.0 requires prompt-toolkit<2.0.0,>=1.0.0, but you have prompt-toolkit 3.0.21 which is incompatible.\n",
            "google-colab 1.0.0 requires ipython~=5.5.0, but you have ipython 7.29.0 which is incompatible.\n",
            "google-colab 1.0.0 requires pandas~=1.1.0; python_version >= \"3.0\", but you have pandas 1.3.4 which is incompatible.\n",
            "google-colab 1.0.0 requires six~=1.15.0, but you have six 1.16.0 which is incompatible.\n",
            "datascience 0.10.6 requires folium==0.2.1, but you have folium 0.8.3 which is incompatible.\n",
            "albumentations 0.1.12 requires imgaug<0.2.7,>=0.2.5, but you have imgaug 0.2.9 which is incompatible.\u001b[0m\n",
            "Successfully installed Pygments-2.10.0 appnope-0.1.2 decorator-5.1.0 ipython-7.29.0 numpy-1.21.3 openpyxl-3.0.9 packaging-21.2 pandas-1.3.4 pluggy-1.0.0 prompt-toolkit-3.0.21 pytest-6.2.5 pytz-2021.3 six-1.16.0 traitlets-5.1.1 typing-extensions-3.10.0.2 xlrd-2.0.1\n"
          ]
        },
        {
          "output_type": "display_data",
          "data": {
            "application/vnd.colab-display-data+json": {
              "pip_warning": {
                "packages": [
                  "IPython",
                  "decorator",
                  "numpy",
                  "pandas",
                  "prompt_toolkit",
                  "pygments",
                  "pytz",
                  "six",
                  "traitlets"
                ]
              }
            }
          },
          "metadata": {}
        }
      ]
    },
    {
      "cell_type": "code",
      "metadata": {
        "colab": {
          "base_uri": "https://localhost:8080/"
        },
        "id": "X6r4pKwgypm2",
        "outputId": "8804f871-6bb0-4140-fc44-301d02402bad"
      },
      "source": [
        "!cd idc-clinical-cleanup && pytest"
      ],
      "execution_count": null,
      "outputs": [
        {
          "output_type": "stream",
          "name": "stdout",
          "text": [
            "\u001b[1m============================= test session starts ==============================\u001b[0m\n",
            "platform linux -- Python 3.7.12, pytest-6.2.5, py-1.10.0, pluggy-1.0.0\n",
            "rootdir: /content/idc-clinical-cleanup\n",
            "plugins: typeguard-2.7.1\n",
            "collected 6 items                                                              \u001b[0m\n",
            "\n",
            "tests/test_readform.py \u001b[32m.\u001b[0m\u001b[32m.\u001b[0m\u001b[32m.\u001b[0m\u001b[32m.\u001b[0m\u001b[32m.\u001b[0m\u001b[32m.\u001b[0m\u001b[32m                                            [100%]\u001b[0m\n",
            "\n",
            "\u001b[32m============================== \u001b[32m\u001b[1m6 passed\u001b[0m\u001b[32m in 9.02s\u001b[0m\u001b[32m ===============================\u001b[0m\n"
          ]
        }
      ]
    },
    {
      "cell_type": "code",
      "metadata": {
        "colab": {
          "base_uri": "https://localhost:8080/"
        },
        "id": "iORkL9y72GBY",
        "outputId": "600096ed-74b8-44ad-cd05-ef7900c69c65"
      },
      "source": [
        "!cd idc-clinical-cleanup && mkdir acrin_dsc_mr_brain && python form_reader.py --collection-id acrin_dsc_mr_brain --output-dir acrin_dsc_mr_brain /content/idc-clinical-cleanup/data/test_files/ACRIN_6677\\ Data\\ Dictionary.xlsx"
      ],
      "execution_count": null,
      "outputs": [
        {
          "output_type": "stream",
          "name": "stdout",
          "text": [
            "Saved dictionary \"A0\" with 25 items\n",
            "Saved dictionary \"AI\" with 9 items\n",
            "Saved dictionary \"B1\" with 77 items\n",
            "Saved dictionary \"BR\" with 49 items\n",
            "Saved dictionary \"DE\" with 66 items\n",
            "Saved dictionary \"DS\" with 11 items\n",
            "Saved dictionary \"G1\" with 96 items\n",
            "Saved dictionary \"M0\" with 63 items\n",
            "Saved dictionary \"M1\" with 65 items\n",
            "Saved dictionary \"M2\" with 65 items\n",
            "Saved dictionary \"M3\" with 65 items\n",
            "Saved dictionary \"M4\" with 65 items\n",
            "Saved dictionary \"M5\" with 65 items\n",
            "Saved dictionary \"M6\" with 65 items\n",
            "Saved dictionary \"M7\" with 65 items\n",
            "Saved dictionary \"M8\" with 65 items\n",
            "Saved dictionary \"M9\" with 65 items\n",
            "Saved dictionary \"MA\" with 65 items\n",
            "Saved dictionary \"MB\" with 65 items\n",
            "Saved dictionary \"MC\" with 65 items\n",
            "Saved dictionary \"MD\" with 65 items\n",
            "Saved dictionary \"MS\" with 48 items\n",
            "Saved dictionary \"PR\" with 14 items\n",
            "Saved dictionary \"S0\" with 46 items\n",
            "Saved dictionary \"S1\" with 13 items\n",
            "Saved dictionary \"SC\" with 42 items\n",
            "Saved dictionary \"T0\" with 10 items\n",
            "Saved dictionary \"V0\" with 94 items\n",
            "Saved dictionary \"V1\" with 96 items\n",
            "Saved dictionary \"V2\" with 96 items\n",
            "Saved dictionary \"V3\" with 96 items\n",
            "Saved dictionary \"V4\" with 96 items\n",
            "Saved dictionary \"V5\" with 96 items\n",
            "Saved dictionary \"V6\" with 96 items\n",
            "Saved dictionary \"V7\" with 96 items\n",
            "Saved dictionary \"V8\" with 96 items\n",
            "Saved dictionary \"V9\" with 96 items\n",
            "Saved dictionary \"VA\" with 96 items\n",
            "Saved dictionary \"VB\" with 96 items\n",
            "Saved dictionary \"VC\" with 96 items\n",
            "Saved dictionary \"VD\" with 96 items\n",
            "Saved dictionary \"VX\" with 96 items\n",
            "Saved total of 42 dictionaries\n",
            "Saved metadictionary with 42 items\n"
          ]
        }
      ]
    },
    {
      "cell_type": "code",
      "metadata": {
        "id": "aPC0EPFZ2vgZ"
      },
      "source": [
        "!cd idc-clinical-cleanup && python bq_exporter.py --paying=idc-tcia --output-dataset=af_clinical_sandbox --input-dir=acrin_dsc_mr_brain"
      ],
      "execution_count": null,
      "outputs": []
    },
    {
      "cell_type": "code",
      "metadata": {
        "colab": {
          "base_uri": "https://localhost:8080/"
        },
        "id": "DjN43_JB2-xM",
        "outputId": "1fd48f07-1917-4c77-9da4-ce8a4af9a677"
      },
      "source": [
        "!cd idc-clinical-cleanup && mkdir acrin_nsclc_fdg_pet && python form_reader.py --collection-id acrin_nsclc_fdg_pet --output-dir acrin_nsclc_fdg_pet /content/idc-clinical-cleanup/data/test_files/ACRIN\\ 6668\\ QIN_6668\\ Data\\ Dictionary.xlsx"
      ],
      "execution_count": null,
      "outputs": [
        {
          "output_type": "stream",
          "name": "stdout",
          "text": [
            "Saved dictionary \"A0\" with 55 items\n",
            "Saved dictionary \"A1\" with 8 items\n",
            "Saved dictionary \"AE\" with 40 items\n",
            "Saved dictionary \"DS\" with 9 items\n",
            "Saved dictionary \"F1\" with 85 items\n",
            "Saved dictionary \"F2\" with 85 items\n",
            "Saved dictionary \"I1\" with 113 items\n",
            "Saved dictionary \"IM\" with 151 items\n",
            "Saved dictionary \"LE\" with 19 items\n",
            "Saved dictionary \"O1\" with 70 items\n",
            "Saved dictionary \"PR\" with 17 items\n",
            "Saved dictionary \"Q2\" with 153 items\n",
            "Saved dictionary \"QA\" with 26 items\n",
            "Saved dictionary \"QZ\" with 153 items\n",
            "Saved dictionary \"SF\" with 6 items\n",
            "Saved dictionary \"SS\" with 53 items\n",
            "Saved dictionary \"ST\" with 15 items\n",
            "Saved dictionary \"T1\" with 49 items\n",
            "Saved dictionary \"TA\" with 52 items\n",
            "Saved dictionary \"TF\" with 54 items\n",
            "Saved total of 20 dictionaries\n",
            "Saved metadictionary with 20 items\n"
          ]
        }
      ]
    },
    {
      "cell_type": "code",
      "metadata": {
        "colab": {
          "base_uri": "https://localhost:8080/"
        },
        "id": "TGMjOsAi4D7g",
        "outputId": "103e2098-8ab8-46fe-9c26-b379b7a0e335"
      },
      "source": [
        "!cd idc-clinical-cleanup && python bq_exporter.py --paying=idc-tcia --output-dataset=af_clinical_sandbox --input-dir=acrin_nsclc_fdg_pet"
      ],
      "execution_count": null,
      "outputs": [
        {
          "output_type": "stream",
          "name": "stdout",
          "text": [
            "Exporting acrin_nsclc_fdg_pet/QZ.csv\n",
            "Loaded 189 rows and 154 columns to idc-tcia.af_clinical_sandbox.acrin_nsclc_fdg_pet_QZ\n",
            "Exporting acrin_nsclc_fdg_pet/Q2.csv\n",
            "Loaded 453 rows and 154 columns to idc-tcia.af_clinical_sandbox.acrin_nsclc_fdg_pet_Q2\n",
            "Exporting acrin_nsclc_fdg_pet/AE.csv\n",
            "Loaded 7 rows and 41 columns to idc-tcia.af_clinical_sandbox.acrin_nsclc_fdg_pet_AE\n",
            "Exporting acrin_nsclc_fdg_pet/A1.csv\n",
            "Loaded 54 rows and 9 columns to idc-tcia.af_clinical_sandbox.acrin_nsclc_fdg_pet_A1\n",
            "Exporting acrin_nsclc_fdg_pet/F2.csv\n",
            "Loaded 47 rows and 86 columns to idc-tcia.af_clinical_sandbox.acrin_nsclc_fdg_pet_F2\n",
            "Exporting acrin_nsclc_fdg_pet/F1.csv\n",
            "Loaded 1187 rows and 86 columns to idc-tcia.af_clinical_sandbox.acrin_nsclc_fdg_pet_F1\n",
            "Exporting acrin_nsclc_fdg_pet/I1.csv\n",
            "Loaded 187 rows and 114 columns to idc-tcia.af_clinical_sandbox.acrin_nsclc_fdg_pet_I1\n",
            "Exporting acrin_nsclc_fdg_pet/PR.csv\n",
            "Loaded 228 rows and 18 columns to idc-tcia.af_clinical_sandbox.acrin_nsclc_fdg_pet_PR\n",
            "Exporting acrin_nsclc_fdg_pet/SS.csv\n",
            "Loaded 890 rows and 54 columns to idc-tcia.af_clinical_sandbox.acrin_nsclc_fdg_pet_SS\n",
            "Exporting acrin_nsclc_fdg_pet/DS.csv\n",
            "Loaded 143 rows and 10 columns to idc-tcia.af_clinical_sandbox.acrin_nsclc_fdg_pet_DS\n",
            "Exporting acrin_nsclc_fdg_pet/A0.csv\n",
            "Loaded 189 rows and 56 columns to idc-tcia.af_clinical_sandbox.acrin_nsclc_fdg_pet_A0\n",
            "Exporting acrin_nsclc_fdg_pet/ST.csv\n",
            "Loaded 189 rows and 16 columns to idc-tcia.af_clinical_sandbox.acrin_nsclc_fdg_pet_ST\n",
            "Exporting acrin_nsclc_fdg_pet/TF.csv\n",
            "Loaded 177 rows and 55 columns to idc-tcia.af_clinical_sandbox.acrin_nsclc_fdg_pet_TF\n",
            "Exporting acrin_nsclc_fdg_pet/SF.csv\n",
            "Loaded 1 rows and 7 columns to idc-tcia.af_clinical_sandbox.acrin_nsclc_fdg_pet_SF\n",
            "Exporting acrin_nsclc_fdg_pet/LE.csv\n",
            "Loaded 185 rows and 20 columns to idc-tcia.af_clinical_sandbox.acrin_nsclc_fdg_pet_LE\n",
            "Exporting acrin_nsclc_fdg_pet/IM.csv\n",
            "Loaded 355 rows and 152 columns to idc-tcia.af_clinical_sandbox.acrin_nsclc_fdg_pet_IM\n",
            "Exporting acrin_nsclc_fdg_pet/O1.csv\n",
            "Loaded 184 rows and 71 columns to idc-tcia.af_clinical_sandbox.acrin_nsclc_fdg_pet_O1\n",
            "Exporting acrin_nsclc_fdg_pet/QA.csv\n",
            "Loaded 15 rows and 27 columns to idc-tcia.af_clinical_sandbox.acrin_nsclc_fdg_pet_QA\n",
            "Exporting acrin_nsclc_fdg_pet/T1.csv\n",
            "Loaded 179 rows and 50 columns to idc-tcia.af_clinical_sandbox.acrin_nsclc_fdg_pet_T1\n",
            "Exporting acrin_nsclc_fdg_pet/TA.csv\n",
            "Loaded 349 rows and 53 columns to idc-tcia.af_clinical_sandbox.acrin_nsclc_fdg_pet_TA\n"
          ]
        }
      ]
    }
  ]
}