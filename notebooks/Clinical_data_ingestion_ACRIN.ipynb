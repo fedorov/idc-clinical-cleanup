{
  "nbformat": 4,
  "nbformat_minor": 0,
  "metadata": {
    "colab": {
      "name": "Clinical data ingestion - ACRIN",
      "provenance": [],
      "collapsed_sections": [],
      "include_colab_link": true
    },
    "kernelspec": {
      "name": "python3",
      "display_name": "Python 3"
    }
  },
  "cells": [
    {
      "cell_type": "markdown",
      "metadata": {
        "id": "view-in-github",
        "colab_type": "text"
      },
      "source": [
        "<a href=\"https://colab.research.google.com/github/fedorov/idc-clinical-cleanup/blob/main/notebooks/Clinical_data_ingestion_ACRIN.ipynb\" target=\"_parent\"><img src=\"https://colab.research.google.com/assets/colab-badge.svg\" alt=\"Open In Colab\"/></a>"
      ]
    },
    {
      "cell_type": "code",
      "metadata": {
        "id": "GcZ3Ii6MxrXy"
      },
      "source": [
        "from google.colab import auth\n",
        "auth.authenticate_user()"
      ],
      "execution_count": 17,
      "outputs": []
    },
    {
      "cell_type": "code",
      "metadata": {
        "colab": {
          "base_uri": "https://localhost:8080/"
        },
        "id": "y-_M5l8jxwxX",
        "outputId": "dcfddb42-aa97-48d4-d8b2-6376a129f8cc"
      },
      "source": [
        "!git clone https://github.com/fedorov/idc-clinical-cleanup.git"
      ],
      "execution_count": 2,
      "outputs": [
        {
          "output_type": "stream",
          "name": "stdout",
          "text": [
            "Cloning into 'idc-clinical-cleanup'...\n",
            "remote: Enumerating objects: 53, done.\u001b[K\n",
            "remote: Counting objects: 100% (53/53), done.\u001b[K\n",
            "remote: Compressing objects: 100% (35/35), done.\u001b[K\n",
            "remote: Total 53 (delta 17), reused 42 (delta 12), pack-reused 0\u001b[K\n",
            "Unpacking objects: 100% (53/53), done.\n"
          ]
        }
      ]
    },
    {
      "cell_type": "code",
      "metadata": {
        "colab": {
          "base_uri": "https://localhost:8080/"
        },
        "id": "05y47iMf169M",
        "outputId": "448f6f2e-f142-4fae-8665-f204a1b59f73"
      },
      "source": [
        "!cd idc-clinical-cleanup && git pull"
      ],
      "execution_count": 15,
      "outputs": [
        {
          "output_type": "stream",
          "name": "stdout",
          "text": [
            "remote: Enumerating objects: 11, done.\u001b[K\n",
            "remote: Counting objects:   9% (1/11)\u001b[K\rremote: Counting objects:  18% (2/11)\u001b[K\rremote: Counting objects:  27% (3/11)\u001b[K\rremote: Counting objects:  36% (4/11)\u001b[K\rremote: Counting objects:  45% (5/11)\u001b[K\rremote: Counting objects:  54% (6/11)\u001b[K\rremote: Counting objects:  63% (7/11)\u001b[K\rremote: Counting objects:  72% (8/11)\u001b[K\rremote: Counting objects:  81% (9/11)\u001b[K\rremote: Counting objects:  90% (10/11)\u001b[K\rremote: Counting objects: 100% (11/11)\u001b[K\rremote: Counting objects: 100% (11/11), done.\u001b[K\n",
            "remote: Compressing objects:  33% (1/3)\u001b[K\rremote: Compressing objects:  66% (2/3)\u001b[K\rremote: Compressing objects: 100% (3/3)\u001b[K\rremote: Compressing objects: 100% (3/3), done.\u001b[K\n",
            "remote: Total 7 (delta 4), reused 7 (delta 4), pack-reused 0\u001b[K\n",
            "Unpacking objects:  14% (1/7)   \rUnpacking objects:  28% (2/7)   \rUnpacking objects:  42% (3/7)   \rUnpacking objects:  57% (4/7)   \rUnpacking objects:  71% (5/7)   \rUnpacking objects:  85% (6/7)   \rUnpacking objects: 100% (7/7)   \rUnpacking objects: 100% (7/7), done.\n",
            "From https://github.com/fedorov/idc-clinical-cleanup\n",
            "   23ae490..b7f10b1  main       -> origin/main\n",
            "Updating 23ae490..b7f10b1\n",
            "Fast-forward\n",
            " bq_exporter.py                             | 10 \u001b[32m+++++++++\u001b[m\u001b[31m-\u001b[m\n",
            " clinical_forms_util/clinical_forms_util.py |  7 \u001b[32m++++++\u001b[m\u001b[31m-\u001b[m\n",
            " 2 files changed, 15 insertions(+), 2 deletions(-)\n"
          ]
        }
      ]
    },
    {
      "cell_type": "code",
      "metadata": {
        "id": "tsQqWF9qyKiq"
      },
      "source": [
        "%%capture\n",
        "!pip install -r idc-clinical-cleanup/requirements.txt"
      ],
      "execution_count": null,
      "outputs": []
    },
    {
      "cell_type": "code",
      "metadata": {
        "colab": {
          "base_uri": "https://localhost:8080/"
        },
        "id": "X6r4pKwgypm2",
        "outputId": "3ea167dd-1353-4aed-dfd1-ad65a23a0b5a"
      },
      "source": [
        "!cd idc-clinical-cleanup && pytest"
      ],
      "execution_count": 3,
      "outputs": [
        {
          "output_type": "stream",
          "name": "stdout",
          "text": [
            "\u001b[1m============================= test session starts ==============================\u001b[0m\n",
            "platform linux -- Python 3.7.12, pytest-6.2.5, py-1.10.0, pluggy-1.0.0\n",
            "rootdir: /content/idc-clinical-cleanup\n",
            "plugins: typeguard-2.7.1\n",
            "collected 6 items                                                              \u001b[0m\n",
            "\n",
            "tests/test_readform.py \u001b[32m.\u001b[0m\u001b[32m.\u001b[0m\u001b[32m.\u001b[0m\u001b[32m.\u001b[0m\u001b[32m.\u001b[0m\u001b[32m.\u001b[0m\u001b[32m                                            [100%]\u001b[0m\n",
            "\n",
            "\u001b[32m============================== \u001b[32m\u001b[1m6 passed\u001b[0m\u001b[32m in 8.90s\u001b[0m\u001b[32m ===============================\u001b[0m\n"
          ]
        }
      ]
    },
    {
      "cell_type": "code",
      "source": [
        "# initialize this variable with the collection_id for the collection being processed\n",
        "import os\n",
        "os.environ[\"COLLECTION_ID\"] = \"acrin_hnscc_fdg_pet_ct\""
      ],
      "metadata": {
        "id": "YUcIYXBcmsP0"
      },
      "execution_count": 11,
      "outputs": []
    },
    {
      "cell_type": "code",
      "metadata": {
        "colab": {
          "base_uri": "https://localhost:8080/"
        },
        "id": "iORkL9y72GBY",
        "outputId": "9c767ca7-88b0-48ec-cb2d-919600f79dc7"
      },
      "source": [
        "!echo $COLLECTION_ID\n",
        "!cd idc-clinical-cleanup && mkdir -p $COLLECTION_ID && python form_reader.py --collection-id $COLLECTION_ID --output-dir $COLLECTION_ID /content/QIN_6685\\ Data\\ Dictionary.xls"
      ],
      "execution_count": 13,
      "outputs": [
        {
          "output_type": "stream",
          "name": "stdout",
          "text": [
            "acrin_hnscc_fdg_pet_ct\n",
            "Saved dictionary \"A0\" with 58 items\n",
            "Saved dictionary \"BL\" with 16 items\n",
            "Saved dictionary \"BX\" with 23 items\n",
            "Saved dictionary \"C2\" with 88 items\n",
            "Saved dictionary \"DS\" with 21 items\n",
            "Saved dictionary \"EX\" with 23 items\n",
            "Saved dictionary \"F1\" with 107 items\n",
            "Saved dictionary \"I1\" with 62 items\n",
            "Saved dictionary \"IM\" with 165 items\n",
            "Saved dictionary \"M4\" with 94 items\n",
            "Saved dictionary \"P3\" with 8 items\n",
            "Saved dictionary \"PL\" with 174 items\n",
            "Saved dictionary \"PM\" with 173 items\n",
            "Saved dictionary \"PR\" with 11 items\n",
            "Saved dictionary \"PV\" with 175 items\n",
            "Saved dictionary \"S1\" with 47 items\n",
            "Saved dictionary \"S2\" with 38 items\n",
            "Saved dictionary \"T0\" with 21 items\n",
            "Saved dictionary \"TA\" with 73 items\n",
            "Saved dictionary \"TD\" with 40 items\n",
            "Saved dictionary \"UP\" with 3 items\n",
            "Saved total of 21 dictionaries\n",
            "Saved metadictionary with 21 items\n"
          ]
        }
      ]
    },
    {
      "cell_type": "code",
      "metadata": {
        "id": "aPC0EPFZ2vgZ",
        "colab": {
          "base_uri": "https://localhost:8080/"
        },
        "outputId": "910d78da-3211-447d-8add-a436a9bae12c"
      },
      "source": [
        "!cd idc-clinical-cleanup && python bq_exporter.py --paying=idc-tcia --output-dataset=af_clinical_sandbox --input-dir=$COLLECTION_ID"
      ],
      "execution_count": 18,
      "outputs": [
        {
          "output_type": "stream",
          "name": "stdout",
          "text": [
            "Exporting acrin_hnscc_fdg_pet_ct/acrin_hnscc_fdg_pet_ct_PR_dict.json\n",
            "Loaded 11 rows and 5 columns to idc-tcia.af_clinical_sandbox.acrin_hnscc_fdg_pet_ct_PR_dict\n",
            "Exporting acrin_hnscc_fdg_pet_ct/acrin_hnscc_fdg_pet_ct_PL_dict.json\n",
            "Loaded 174 rows and 5 columns to idc-tcia.af_clinical_sandbox.acrin_hnscc_fdg_pet_ct_PL_dict\n",
            "Exporting acrin_hnscc_fdg_pet_ct/acrin_hnscc_fdg_pet_ct_M4_dict.json\n",
            "Loaded 94 rows and 5 columns to idc-tcia.af_clinical_sandbox.acrin_hnscc_fdg_pet_ct_M4_dict\n",
            "Exporting acrin_hnscc_fdg_pet_ct/acrin_hnscc_fdg_pet_ct_DS_dict.json\n",
            "Loaded 21 rows and 5 columns to idc-tcia.af_clinical_sandbox.acrin_hnscc_fdg_pet_ct_DS_dict\n",
            "Exporting acrin_hnscc_fdg_pet_ct/acrin_hnscc_fdg_pet_ct_PV_dict.json\n",
            "Loaded 175 rows and 5 columns to idc-tcia.af_clinical_sandbox.acrin_hnscc_fdg_pet_ct_PV_dict\n",
            "Exporting acrin_hnscc_fdg_pet_ct/acrin_hnscc_fdg_pet_ct_C2_dict.json\n",
            "Loaded 88 rows and 5 columns to idc-tcia.af_clinical_sandbox.acrin_hnscc_fdg_pet_ct_C2_dict\n",
            "Exporting acrin_hnscc_fdg_pet_ct/acrin_hnscc_fdg_pet_ct_F1_dict.json\n",
            "Loaded 107 rows and 5 columns to idc-tcia.af_clinical_sandbox.acrin_hnscc_fdg_pet_ct_F1_dict\n",
            "Exporting acrin_hnscc_fdg_pet_ct/acrin_hnscc_fdg_pet_ct_BX_dict.json\n",
            "Loaded 23 rows and 5 columns to idc-tcia.af_clinical_sandbox.acrin_hnscc_fdg_pet_ct_BX_dict\n",
            "Exporting acrin_hnscc_fdg_pet_ct/acrin_hnscc_fdg_pet_ct_P3_dict.json\n",
            "Loaded 8 rows and 5 columns to idc-tcia.af_clinical_sandbox.acrin_hnscc_fdg_pet_ct_P3_dict\n",
            "Exporting acrin_hnscc_fdg_pet_ct/acrin_hnscc_fdg_pet_ct_I1_dict.json\n",
            "Loaded 62 rows and 5 columns to idc-tcia.af_clinical_sandbox.acrin_hnscc_fdg_pet_ct_I1_dict\n",
            "Exporting acrin_hnscc_fdg_pet_ct/acrin_hnscc_fdg_pet_ct_IM_dict.json\n",
            "Loaded 165 rows and 5 columns to idc-tcia.af_clinical_sandbox.acrin_hnscc_fdg_pet_ct_IM_dict\n",
            "Exporting acrin_hnscc_fdg_pet_ct/acrin_hnscc_fdg_pet_ct_BL_dict.json\n",
            "Loaded 16 rows and 5 columns to idc-tcia.af_clinical_sandbox.acrin_hnscc_fdg_pet_ct_BL_dict\n",
            "Exporting acrin_hnscc_fdg_pet_ct/acrin_hnscc_fdg_pet_ct_S1_dict.json\n",
            "Loaded 47 rows and 5 columns to idc-tcia.af_clinical_sandbox.acrin_hnscc_fdg_pet_ct_S1_dict\n",
            "Exporting acrin_hnscc_fdg_pet_ct/acrin_hnscc_fdg_pet_ct_TA_dict.json\n",
            "Loaded 73 rows and 5 columns to idc-tcia.af_clinical_sandbox.acrin_hnscc_fdg_pet_ct_TA_dict\n",
            "Exporting acrin_hnscc_fdg_pet_ct/acrin_hnscc_fdg_pet_ct_A0_dict.json\n",
            "Loaded 58 rows and 5 columns to idc-tcia.af_clinical_sandbox.acrin_hnscc_fdg_pet_ct_A0_dict\n",
            "Exporting acrin_hnscc_fdg_pet_ct/acrin_hnscc_fdg_pet_ct_dict.json\n",
            "Loaded 21 rows and 2 columns to idc-tcia.af_clinical_sandbox.acrin_hnscc_fdg_pet_ct_dict\n",
            "Exporting acrin_hnscc_fdg_pet_ct/acrin_hnscc_fdg_pet_ct_TD_dict.json\n",
            "Loaded 40 rows and 5 columns to idc-tcia.af_clinical_sandbox.acrin_hnscc_fdg_pet_ct_TD_dict\n",
            "Exporting acrin_hnscc_fdg_pet_ct/acrin_hnscc_fdg_pet_ct_S2_dict.json\n",
            "Loaded 38 rows and 5 columns to idc-tcia.af_clinical_sandbox.acrin_hnscc_fdg_pet_ct_S2_dict\n",
            "Exporting acrin_hnscc_fdg_pet_ct/acrin_hnscc_fdg_pet_ct_PM_dict.json\n",
            "Loaded 173 rows and 5 columns to idc-tcia.af_clinical_sandbox.acrin_hnscc_fdg_pet_ct_PM_dict\n",
            "Exporting acrin_hnscc_fdg_pet_ct/acrin_hnscc_fdg_pet_ct_EX_dict.json\n",
            "Loaded 23 rows and 5 columns to idc-tcia.af_clinical_sandbox.acrin_hnscc_fdg_pet_ct_EX_dict\n",
            "Exporting acrin_hnscc_fdg_pet_ct/acrin_hnscc_fdg_pet_ct_T0_dict.json\n",
            "Loaded 21 rows and 5 columns to idc-tcia.af_clinical_sandbox.acrin_hnscc_fdg_pet_ct_T0_dict\n",
            "Exporting acrin_hnscc_fdg_pet_ct/acrin_hnscc_fdg_pet_ct_UP_dict.json\n",
            "Loaded 3 rows and 5 columns to idc-tcia.af_clinical_sandbox.acrin_hnscc_fdg_pet_ct_UP_dict\n"
          ]
        }
      ]
    },
    {
      "cell_type": "code",
      "metadata": {
        "colab": {
          "base_uri": "https://localhost:8080/"
        },
        "id": "DjN43_JB2-xM",
        "outputId": "1fd48f07-1917-4c77-9da4-ce8a4af9a677"
      },
      "source": [
        "!cd idc-clinical-cleanup && mkdir acrin_nsclc_fdg_pet && python form_reader.py --collection-id acrin_nsclc_fdg_pet --output-dir acrin_nsclc_fdg_pet /content/idc-clinical-cleanup/data/test_files/ACRIN\\ 6668\\ QIN_6668\\ Data\\ Dictionary.xlsx"
      ],
      "execution_count": null,
      "outputs": [
        {
          "output_type": "stream",
          "name": "stdout",
          "text": [
            "Saved dictionary \"A0\" with 55 items\n",
            "Saved dictionary \"A1\" with 8 items\n",
            "Saved dictionary \"AE\" with 40 items\n",
            "Saved dictionary \"DS\" with 9 items\n",
            "Saved dictionary \"F1\" with 85 items\n",
            "Saved dictionary \"F2\" with 85 items\n",
            "Saved dictionary \"I1\" with 113 items\n",
            "Saved dictionary \"IM\" with 151 items\n",
            "Saved dictionary \"LE\" with 19 items\n",
            "Saved dictionary \"O1\" with 70 items\n",
            "Saved dictionary \"PR\" with 17 items\n",
            "Saved dictionary \"Q2\" with 153 items\n",
            "Saved dictionary \"QA\" with 26 items\n",
            "Saved dictionary \"QZ\" with 153 items\n",
            "Saved dictionary \"SF\" with 6 items\n",
            "Saved dictionary \"SS\" with 53 items\n",
            "Saved dictionary \"ST\" with 15 items\n",
            "Saved dictionary \"T1\" with 49 items\n",
            "Saved dictionary \"TA\" with 52 items\n",
            "Saved dictionary \"TF\" with 54 items\n",
            "Saved total of 20 dictionaries\n",
            "Saved metadictionary with 20 items\n"
          ]
        }
      ]
    },
    {
      "cell_type": "code",
      "metadata": {
        "colab": {
          "base_uri": "https://localhost:8080/"
        },
        "id": "TGMjOsAi4D7g",
        "outputId": "103e2098-8ab8-46fe-9c26-b379b7a0e335"
      },
      "source": [
        "!cd idc-clinical-cleanup && python bq_exporter.py --paying=idc-tcia --output-dataset=af_clinical_sandbox --input-dir=acrin_nsclc_fdg_pet"
      ],
      "execution_count": null,
      "outputs": [
        {
          "output_type": "stream",
          "name": "stdout",
          "text": [
            "Exporting acrin_nsclc_fdg_pet/QZ.csv\n",
            "Loaded 189 rows and 154 columns to idc-tcia.af_clinical_sandbox.acrin_nsclc_fdg_pet_QZ\n",
            "Exporting acrin_nsclc_fdg_pet/Q2.csv\n",
            "Loaded 453 rows and 154 columns to idc-tcia.af_clinical_sandbox.acrin_nsclc_fdg_pet_Q2\n",
            "Exporting acrin_nsclc_fdg_pet/AE.csv\n",
            "Loaded 7 rows and 41 columns to idc-tcia.af_clinical_sandbox.acrin_nsclc_fdg_pet_AE\n",
            "Exporting acrin_nsclc_fdg_pet/A1.csv\n",
            "Loaded 54 rows and 9 columns to idc-tcia.af_clinical_sandbox.acrin_nsclc_fdg_pet_A1\n",
            "Exporting acrin_nsclc_fdg_pet/F2.csv\n",
            "Loaded 47 rows and 86 columns to idc-tcia.af_clinical_sandbox.acrin_nsclc_fdg_pet_F2\n",
            "Exporting acrin_nsclc_fdg_pet/F1.csv\n",
            "Loaded 1187 rows and 86 columns to idc-tcia.af_clinical_sandbox.acrin_nsclc_fdg_pet_F1\n",
            "Exporting acrin_nsclc_fdg_pet/I1.csv\n",
            "Loaded 187 rows and 114 columns to idc-tcia.af_clinical_sandbox.acrin_nsclc_fdg_pet_I1\n",
            "Exporting acrin_nsclc_fdg_pet/PR.csv\n",
            "Loaded 228 rows and 18 columns to idc-tcia.af_clinical_sandbox.acrin_nsclc_fdg_pet_PR\n",
            "Exporting acrin_nsclc_fdg_pet/SS.csv\n",
            "Loaded 890 rows and 54 columns to idc-tcia.af_clinical_sandbox.acrin_nsclc_fdg_pet_SS\n",
            "Exporting acrin_nsclc_fdg_pet/DS.csv\n",
            "Loaded 143 rows and 10 columns to idc-tcia.af_clinical_sandbox.acrin_nsclc_fdg_pet_DS\n",
            "Exporting acrin_nsclc_fdg_pet/A0.csv\n",
            "Loaded 189 rows and 56 columns to idc-tcia.af_clinical_sandbox.acrin_nsclc_fdg_pet_A0\n",
            "Exporting acrin_nsclc_fdg_pet/ST.csv\n",
            "Loaded 189 rows and 16 columns to idc-tcia.af_clinical_sandbox.acrin_nsclc_fdg_pet_ST\n",
            "Exporting acrin_nsclc_fdg_pet/TF.csv\n",
            "Loaded 177 rows and 55 columns to idc-tcia.af_clinical_sandbox.acrin_nsclc_fdg_pet_TF\n",
            "Exporting acrin_nsclc_fdg_pet/SF.csv\n",
            "Loaded 1 rows and 7 columns to idc-tcia.af_clinical_sandbox.acrin_nsclc_fdg_pet_SF\n",
            "Exporting acrin_nsclc_fdg_pet/LE.csv\n",
            "Loaded 185 rows and 20 columns to idc-tcia.af_clinical_sandbox.acrin_nsclc_fdg_pet_LE\n",
            "Exporting acrin_nsclc_fdg_pet/IM.csv\n",
            "Loaded 355 rows and 152 columns to idc-tcia.af_clinical_sandbox.acrin_nsclc_fdg_pet_IM\n",
            "Exporting acrin_nsclc_fdg_pet/O1.csv\n",
            "Loaded 184 rows and 71 columns to idc-tcia.af_clinical_sandbox.acrin_nsclc_fdg_pet_O1\n",
            "Exporting acrin_nsclc_fdg_pet/QA.csv\n",
            "Loaded 15 rows and 27 columns to idc-tcia.af_clinical_sandbox.acrin_nsclc_fdg_pet_QA\n",
            "Exporting acrin_nsclc_fdg_pet/T1.csv\n",
            "Loaded 179 rows and 50 columns to idc-tcia.af_clinical_sandbox.acrin_nsclc_fdg_pet_T1\n",
            "Exporting acrin_nsclc_fdg_pet/TA.csv\n",
            "Loaded 349 rows and 53 columns to idc-tcia.af_clinical_sandbox.acrin_nsclc_fdg_pet_TA\n"
          ]
        }
      ]
    }
  ]
}